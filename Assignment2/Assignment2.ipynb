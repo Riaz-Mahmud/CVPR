{
 "cells": [
  {
   "cell_type": "code",
   "execution_count": null,
   "metadata": {
    "id": "7HJ5Q2LaiJKz"
   },
   "outputs": [],
   "source": [
    "import tensorflow as tf\n",
    "from tensorflow import keras\n",
    "from tensorflow.keras import layers\n",
    "from tensorflow.keras.optimizers import Adam\n",
    "from tensorflow.keras.models import Sequential\n",
    "from tensorflow.keras.layers import Dense, Flatten\n",
    "from tensorflow.keras.applications import VGG16\n",
    "from sklearn.model_selection import train_test_split\n",
    "import os\n",
    "import numpy as np\n",
    "import matplotlib.pyplot as plt\n",
    "\n",
    "# ignore information messgaes from tensorflow, but we will receieve error messages\n",
    "os.environ['TFF_CPP_MIN_LOG_LEVEL'] = '2'\n",
    "\n",
    "%matplotlib inline"
   ]
  },
  {
   "cell_type": "code",
   "execution_count": null,
   "metadata": {
    "colab": {
     "base_uri": "https://localhost:8080/"
    },
    "id": "UF4Gr3J4ijiL",
    "outputId": "07ef387e-4d5a-4b0b-b829-15e3628f5aee"
   },
   "outputs": [],
   "source": [
    "gpu_device = tf.config.experimental.list_physical_devices('GPU')\n",
    "print(f\"Number of GPU = {len(gpu_device)}\")\n",
    "tf.config.experimental.set_memory_growth(gpu_device[0], True)"
   ]
  },
  {
   "cell_type": "code",
   "execution_count": null,
   "metadata": {
    "colab": {
     "base_uri": "https://localhost:8080/",
     "height": 468
    },
    "id": "p55sQTCYKMBY",
    "outputId": "62565a0a-335c-42c3-bd72-ca6e393cadaf"
   },
   "outputs": [],
   "source": [
    "train_dir = '/content/asl_alphabet_train/asl_alphabet_train/'\n",
    "test_dir = '/content/asl_alphabet_test/asl_alphabet_test/'\n",
    "classes = ['A', 'B', 'C', 'D', 'E', 'F', 'G', 'H', 'I', 'J', 'K', \n",
    "           'L', 'M', 'N', 'O', 'P', 'Q', 'R', 'S', 'T', 'U', 'V', \n",
    "           'W', 'X', 'Y', 'Z', 'nothing', 'space', 'del']\n",
    "plt.figure(figsize=(11, 11))\n",
    "for i in range (0,29):\n",
    "    plt.subplot(7,7,i+1)\n",
    "    plt.xticks([])\n",
    "    plt.yticks([])\n",
    "    path = train_dir + \"/{0}/{0}1.jpg\".format(classes[i])\n",
    "    img = plt.imread(path)\n",
    "    plt.imshow(img)\n",
    "    plt.xlabel(classes[i])"
   ]
  },
  {
   "cell_type": "code",
   "execution_count": null,
   "metadata": {
    "colab": {
     "base_uri": "https://localhost:8080/"
    },
    "id": "HmBbP0hCilSc",
    "outputId": "f251ddde-a877-47a6-b796-6916ccf7b252"
   },
   "outputs": [],
   "source": [
    "from time import time\n",
    "import cv2\n",
    "from tensorflow.keras import utils\n",
    "images = []\n",
    "labels = []\n",
    "size = 32,32\n",
    "index = -1\n",
    "for folder in os.listdir(train_dir):\n",
    "    index +=1\n",
    "    for image in os.listdir(train_dir + \"/\" + folder):\n",
    "        temp_img = cv2.imread(train_dir + '/' + folder + '/' + image)\n",
    "        temp_img = cv2.resize(temp_img, size)\n",
    "        images.append(temp_img)\n",
    "        labels.append(index)\n",
    "\n",
    "images = np.array(images)\n",
    "images = images.astype('float32')/255.0\n",
    "labels = utils.to_categorical(labels)\n",
    "x_train, x_test, y_train, y_test = train_test_split(images, labels, test_size = 0.1)\n",
    "\n",
    "print(f\"X_train= {x_train.shape} Y_train= {y_train.shape}\")\n",
    "print(f\"X_test= {x_test.shape} Y_test= {x_test.shape}\")"
   ]
  },
  {
   "cell_type": "code",
   "execution_count": null,
   "metadata": {
    "colab": {
     "base_uri": "https://localhost:8080/"
    },
    "id": "752YVVnH8GPu",
    "outputId": "f8c6a1fa-a59c-4745-ae54-c3bc120f4512"
   },
   "outputs": [],
   "source": [
    "model = keras.Sequential([\n",
    "\n",
    "    layers.Conv2D(input_shape=(32,32,3),filters=11,kernel_size=(3,3),padding=\"same\", activation=\"relu\"),\n",
    "    layers.Conv2D(filters=64,kernel_size=(3,3),padding=\"same\", activation=\"relu\"),\n",
    "    layers.MaxPool2D(pool_size=(2,2),strides=(2,2)),\n",
    "\n",
    "    layers.Conv2D(filters=128, kernel_size=(3,3), padding=\"same\", activation=\"relu\"),\n",
    "    layers.Conv2D(filters=128, kernel_size=(3,3), padding=\"same\", activation=\"relu\"),\n",
    "    layers.MaxPool2D(pool_size=(2,2),strides=(2,2)),\n",
    "\n",
    "    layers.Conv2D(filters=256, kernel_size=(3,3), padding=\"same\", activation=\"relu\"),\n",
    "    layers.Conv2D(filters=256, kernel_size=(3,3), padding=\"same\", activation=\"relu\"),\n",
    "    layers.Conv2D(filters=256, kernel_size=(3,3), padding=\"same\", activation=\"relu\"),\n",
    "    layers.MaxPool2D(pool_size=(2,2),strides=(2,2)),\n",
    "\n",
    "    layers.Conv2D(filters=512, kernel_size=(3,3), padding=\"same\", activation=\"relu\"),\n",
    "    layers.Conv2D(filters=512, kernel_size=(3,3), padding=\"same\", activation=\"relu\"),\n",
    "    layers.Conv2D(filters=512, kernel_size=(3,3), padding=\"same\", activation=\"relu\"),\n",
    "    layers.MaxPool2D(pool_size=(2,2),strides=(2,2)),\n",
    "\n",
    "    layers.Conv2D(filters=512, kernel_size=(3,3), padding=\"same\", activation=\"relu\"),\n",
    "    layers.Conv2D(filters=512, kernel_size=(3,3), padding=\"same\", activation=\"relu\"),\n",
    "    layers.Conv2D(filters=512, kernel_size=(3,3), padding=\"same\", activation=\"relu\"),\n",
    "    layers.MaxPool2D(pool_size=(2,2),strides=(2,2)),\n",
    "    \n",
    "    layers.Flatten(),\n",
    "    layers.Dense(units=512,activation=\"relu\"),\n",
    "    layers.Dense(units=512,activation=\"relu\"),    \n",
    "    layers.Dense(units=29, activation=\"softmax\")\n",
    "])\n",
    "model.summary()"
   ]
  },
  {
   "cell_type": "code",
   "execution_count": null,
   "metadata": {
    "id": "6MyJzorFlBxd"
   },
   "outputs": [],
   "source": [
    "classes = 29\n",
    "lr = 0.0001\n",
    "adam = Adam(learning_rate=lr)\n",
    "model.compile(\n",
    "    optimizer=adam, \n",
    "    loss='categorical_crossentropy', \n",
    "    metrics=['accuracy']\n",
    ")"
   ]
  },
  {
   "cell_type": "code",
   "execution_count": null,
   "metadata": {
    "colab": {
     "base_uri": "https://localhost:8080/"
    },
    "id": "DTDduVsEodIA",
    "outputId": "0d833701-1ca2-4535-a9b3-553a9c2c5593"
   },
   "outputs": [],
   "source": [
    "h = model.fit(x_train, y_train, batch_size=128, epochs=5, validation_split=0.1, shuffle = True, verbose=1)"
   ]
  },
  {
   "cell_type": "code",
   "execution_count": null,
   "metadata": {
    "colab": {
     "base_uri": "https://localhost:8080/",
     "height": 334
    },
    "id": "-PgB57aJAVU7",
    "outputId": "da9d467a-6381-4e5e-c79d-fdb65d85e939"
   },
   "outputs": [],
   "source": [
    "plt.figure(figsize=(15,5))\n",
    "plt.subplot(1,2,1)\n",
    "plt.plot(h.history['accuracy'], '--', label='train accuracy')\n",
    "plt.plot(h.history['val_accuracy'], '--', label = 'validation accuracy')\n",
    "plt.xlabel('Epoch')\n",
    "plt.ylabel('Accuracy')\n",
    "plt.grid(True)\n",
    "plt.legend(loc='lower right')\n",
    "\n",
    "plt.subplot(1,2,2)\n",
    "plt.plot(h.history['loss'], '--', label='train loss')\n",
    "plt.plot(h.history['val_loss'], '--', label='validation loss')\n",
    "plt.xlabel('Epoch')\n",
    "plt.ylabel('Loss')\n",
    "plt.grid(True)\n",
    "plt.legend(loc='upper right')\n",
    "\n",
    "plt.show()"
   ]
  },
  {
   "cell_type": "code",
   "execution_count": null,
   "metadata": {
    "colab": {
     "base_uri": "https://localhost:8080/"
    },
    "id": "reGWpkjIAjaS",
    "outputId": "ef8347b5-9df2-4708-b896-9e606b0140ec"
   },
   "outputs": [],
   "source": [
    "\n",
    "test_loss, test_acc = model.evaluate(x_test, y_test)\n",
    "print('Test accuracy:', test_acc)\n",
    "print('Test loss:', test_loss)"
   ]
  },
  {
   "cell_type": "code",
   "execution_count": null,
   "metadata": {
    "id": "m9t4MzJqEn-I"
   },
   "outputs": [],
   "source": []
  }
 ],
 "metadata": {
  "accelerator": "GPU",
  "colab": {
   "name": "pa-2.ipynb",
   "provenance": []
  },
  "kernelspec": {
   "display_name": "cvpr tf",
   "language": "python",
   "name": "cvpr"
  },
  "language_info": {
   "codemirror_mode": {
    "name": "ipython",
    "version": 3
   },
   "file_extension": ".py",
   "mimetype": "text/x-python",
   "name": "python",
   "nbconvert_exporter": "python",
   "pygments_lexer": "ipython3",
   "version": "3.8.10"
  }
 },
 "nbformat": 4,
 "nbformat_minor": 1
}
